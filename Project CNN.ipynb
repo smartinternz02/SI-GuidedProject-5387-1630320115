{
 "cells": [
  {
   "cell_type": "code",
   "execution_count": 1,
   "metadata": {},
   "outputs": [],
   "source": [
    "from tensorflow.keras.models import Sequential\n",
    "from tensorflow.keras.layers import Dense,Flatten,Convolution2D,MaxPooling2D"
   ]
  },
  {
   "cell_type": "code",
   "execution_count": 2,
   "metadata": {},
   "outputs": [],
   "source": [
    "from tensorflow.keras.preprocessing.image import ImageDataGenerator"
   ]
  },
  {
   "cell_type": "code",
   "execution_count": 3,
   "metadata": {},
   "outputs": [],
   "source": [
    "train_datagen= ImageDataGenerator(rescale=1./255,shear_range=0.2,zoom_range=0.2,horizontal_flip=True)\n",
    "test_datagen= ImageDataGenerator(rescale=1./255)"
   ]
  },
  {
   "cell_type": "code",
   "execution_count": 17,
   "metadata": {},
   "outputs": [
    {
     "name": "stdout",
     "output_type": "stream",
     "text": [
      "Found 700 images belonging to 5 classes.\n",
      "Found 300 images belonging to 5 classes.\n"
     ]
    }
   ],
   "source": [
    "x_train=train_datagen.flow_from_directory(r\"C:\\externship_labs\\Rock_classification\\Rock_Classification_Dataset\\train_set\",target_size=(64,64),batch_size=32,class_mode='categorical')\n",
    "x_test=test_datagen.flow_from_directory(r\"C:\\externship_labs\\Rock_classification\\Rock_Classification_Dataset\\test_set\",target_size=(64,64),batch_size=32,class_mode='categorical')"
   ]
  },
  {
   "cell_type": "code",
   "execution_count": 18,
   "metadata": {},
   "outputs": [],
   "source": [
    "cnn=Sequential()"
   ]
  },
  {
   "cell_type": "code",
   "execution_count": 19,
   "metadata": {},
   "outputs": [],
   "source": [
    "cnn.add(Convolution2D(32,(3,3),input_shape=(64,64,3)))"
   ]
  },
  {
   "cell_type": "code",
   "execution_count": 20,
   "metadata": {},
   "outputs": [],
   "source": [
    "cnn.add(MaxPooling2D(2,2))"
   ]
  },
  {
   "cell_type": "code",
   "execution_count": 21,
   "metadata": {},
   "outputs": [],
   "source": [
    "cnn.add(Flatten())"
   ]
  },
  {
   "cell_type": "code",
   "execution_count": 22,
   "metadata": {},
   "outputs": [],
   "source": [
    "cnn.add(Dense(units =128 ,kernel_initializer=\"random_uniform\",activation = 'relu'))"
   ]
  },
  {
   "cell_type": "code",
   "execution_count": 23,
   "metadata": {},
   "outputs": [],
   "source": [
    "cnn.add(Dense(units = 5, kernel_initializer=\"random_uniform\",activation = 'softmax'))"
   ]
  },
  {
   "cell_type": "code",
   "execution_count": 24,
   "metadata": {},
   "outputs": [],
   "source": [
    "cnn.compile(optimizer = 'rmsprop',loss=\"categorical_crossentropy\",metrics = ['accuracy'])"
   ]
  },
  {
   "cell_type": "code",
   "execution_count": 25,
   "metadata": {},
   "outputs": [
    {
     "name": "stdout",
     "output_type": "stream",
     "text": [
      "Epoch 1/30\n",
      "22/21 [==============================] - 2s 107ms/step - loss: 2.3674 - acc: 0.4300 - val_loss: 1.0473 - val_acc: 0.6500\n",
      "Epoch 2/30\n",
      "22/21 [==============================] - 2s 86ms/step - loss: 0.9427 - acc: 0.6729 - val_loss: 0.6915 - val_acc: 0.8167\n",
      "Epoch 3/30\n",
      "22/21 [==============================] - 2s 85ms/step - loss: 0.6428 - acc: 0.7457 - val_loss: 0.7055 - val_acc: 0.7267\n",
      "Epoch 4/30\n",
      "22/21 [==============================] - 2s 87ms/step - loss: 0.5156 - acc: 0.7871 - val_loss: 0.5035 - val_acc: 0.8133\n",
      "Epoch 5/30\n",
      "22/21 [==============================] - 2s 85ms/step - loss: 0.4334 - acc: 0.8171 - val_loss: 0.6588 - val_acc: 0.7533\n",
      "Epoch 6/30\n",
      "22/21 [==============================] - 2s 88ms/step - loss: 0.3694 - acc: 0.8457 - val_loss: 0.4345 - val_acc: 0.8800\n",
      "Epoch 7/30\n",
      "22/21 [==============================] - 2s 90ms/step - loss: 0.3749 - acc: 0.8486 - val_loss: 0.8528 - val_acc: 0.6967\n",
      "Epoch 8/30\n",
      "22/21 [==============================] - 2s 85ms/step - loss: 0.3264 - acc: 0.8443 - val_loss: 0.6168 - val_acc: 0.8067\n",
      "Epoch 9/30\n",
      "22/21 [==============================] - 2s 86ms/step - loss: 0.2645 - acc: 0.8886 - val_loss: 0.5103 - val_acc: 0.8667\n",
      "Epoch 10/30\n",
      "22/21 [==============================] - 2s 90ms/step - loss: 0.2975 - acc: 0.8743 - val_loss: 0.5556 - val_acc: 0.8300\n",
      "Epoch 11/30\n",
      "22/21 [==============================] - 2s 87ms/step - loss: 0.2386 - acc: 0.9071 - val_loss: 0.5218 - val_acc: 0.8533\n",
      "Epoch 12/30\n",
      "22/21 [==============================] - 2s 80ms/step - loss: 0.2910 - acc: 0.8886 - val_loss: 0.5908 - val_acc: 0.8500\n",
      "Epoch 13/30\n",
      "22/21 [==============================] - 2s 89ms/step - loss: 0.1830 - acc: 0.9286 - val_loss: 0.5171 - val_acc: 0.8700\n",
      "Epoch 14/30\n",
      "22/21 [==============================] - 2s 89ms/step - loss: 0.2546 - acc: 0.8971 - val_loss: 0.5567 - val_acc: 0.8700\n",
      "Epoch 15/30\n",
      "22/21 [==============================] - 2s 95ms/step - loss: 0.1887 - acc: 0.9257 - val_loss: 0.7677 - val_acc: 0.8200\n",
      "Epoch 16/30\n",
      "22/21 [==============================] - 2s 94ms/step - loss: 0.1929 - acc: 0.9186 - val_loss: 0.6391 - val_acc: 0.8400\n",
      "Epoch 17/30\n",
      "22/21 [==============================] - 2s 92ms/step - loss: 0.2145 - acc: 0.9071 - val_loss: 0.7201 - val_acc: 0.8467\n",
      "Epoch 18/30\n",
      "22/21 [==============================] - 2s 95ms/step - loss: 0.1808 - acc: 0.9300 - val_loss: 1.0957 - val_acc: 0.7367\n",
      "Epoch 19/30\n",
      "22/21 [==============================] - 2s 94ms/step - loss: 0.2068 - acc: 0.9171 - val_loss: 0.5436 - val_acc: 0.8633\n",
      "Epoch 20/30\n",
      "22/21 [==============================] - 2s 91ms/step - loss: 0.1635 - acc: 0.9314 - val_loss: 0.7718 - val_acc: 0.8000\n",
      "Epoch 21/30\n",
      "22/21 [==============================] - 2s 94ms/step - loss: 0.1678 - acc: 0.9243 - val_loss: 1.4804 - val_acc: 0.7233\n",
      "Epoch 22/30\n",
      "22/21 [==============================] - 2s 97ms/step - loss: 0.1762 - acc: 0.9286 - val_loss: 0.5140 - val_acc: 0.8667\n",
      "Epoch 23/30\n",
      "22/21 [==============================] - 2s 91ms/step - loss: 0.1394 - acc: 0.9386 - val_loss: 0.8138 - val_acc: 0.8033\n",
      "Epoch 24/30\n",
      "22/21 [==============================] - 2s 93ms/step - loss: 0.2278 - acc: 0.9414 - val_loss: 0.7432 - val_acc: 0.8067\n",
      "Epoch 25/30\n",
      "22/21 [==============================] - 2s 88ms/step - loss: 0.1283 - acc: 0.9343 - val_loss: 0.6931 - val_acc: 0.8000\n",
      "Epoch 26/30\n",
      "22/21 [==============================] - 2s 80ms/step - loss: 0.1089 - acc: 0.9557 - val_loss: 0.9186 - val_acc: 0.8233\n",
      "Epoch 27/30\n",
      "22/21 [==============================] - 2s 92ms/step - loss: 0.1426 - acc: 0.9414 - val_loss: 0.6824 - val_acc: 0.8167\n",
      "Epoch 28/30\n",
      "22/21 [==============================] - 2s 88ms/step - loss: 0.1397 - acc: 0.9457 - val_loss: 0.7145 - val_acc: 0.8400\n",
      "Epoch 29/30\n",
      "22/21 [==============================] - 2s 85ms/step - loss: 0.1577 - acc: 0.9314 - val_loss: 0.6120 - val_acc: 0.8300\n",
      "Epoch 30/30\n",
      "22/21 [==============================] - 2s 94ms/step - loss: 0.0910 - acc: 0.9614 - val_loss: 0.6493 - val_acc: 0.8433\n"
     ]
    },
    {
     "data": {
      "text/plain": [
       "<tensorflow.python.keras.callbacks.History at 0x2658f5409b0>"
      ]
     },
     "execution_count": 25,
     "metadata": {},
     "output_type": "execute_result"
    }
   ],
   "source": [
    "cnn.fit_generator(x_train,steps_per_epoch=700/32,epochs=30,validation_data=x_test,validation_steps=300/32)"
   ]
  },
  {
   "cell_type": "code",
   "execution_count": 26,
   "metadata": {},
   "outputs": [],
   "source": [
    "cnn.save(\"rocksidentification.h5\")"
   ]
  },
  {
   "cell_type": "code",
   "execution_count": null,
   "metadata": {},
   "outputs": [],
   "source": []
  }
 ],
 "metadata": {
  "kernelspec": {
   "display_name": "Python 3",
   "language": "python",
   "name": "python3"
  },
  "language_info": {
   "codemirror_mode": {
    "name": "ipython",
    "version": 3
   },
   "file_extension": ".py",
   "mimetype": "text/x-python",
   "name": "python",
   "nbconvert_exporter": "python",
   "pygments_lexer": "ipython3",
   "version": "3.7.3"
  }
 },
 "nbformat": 4,
 "nbformat_minor": 2
}
